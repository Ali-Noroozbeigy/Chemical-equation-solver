{
 "cells": [
  {
   "cell_type": "code",
   "execution_count": 1,
   "id": "6d3b901c",
   "metadata": {
    "scrolled": true
   },
   "outputs": [
    {
     "name": "stdout",
     "output_type": "stream",
     "text": [
      "C H O\n"
     ]
    }
   ],
   "source": [
    "elements_list = input().split()"
   ]
  },
  {
   "cell_type": "code",
   "execution_count": null,
   "id": "7dd76113",
   "metadata": {},
   "outputs": [],
   "source": [
    "elements_number = len(elements_list)"
   ]
  },
  {
   "cell_type": "code",
   "execution_count": 5,
   "id": "e031d01a",
   "metadata": {},
   "outputs": [
    {
     "name": "stdout",
     "output_type": "stream",
     "text": [
      "C2 H6 + O2 -> C O2 + H2 O\n"
     ]
    }
   ],
   "source": [
    "equation_split = input().split"
   ]
  },
  {
   "cell_type": "code",
   "execution_count": 4,
   "id": "50e01589",
   "metadata": {},
   "outputs": [],
   "source": [
    "import numpy as np"
   ]
  },
  {
   "cell_type": "code",
   "execution_count": null,
   "id": "4916faaa",
   "metadata": {},
   "outputs": [],
   "source": []
  }
 ],
 "metadata": {
  "kernelspec": {
   "display_name": "Python 3 (ipykernel)",
   "language": "python",
   "name": "python3"
  },
  "language_info": {
   "codemirror_mode": {
    "name": "ipython",
    "version": 3
   },
   "file_extension": ".py",
   "mimetype": "text/x-python",
   "name": "python",
   "nbconvert_exporter": "python",
   "pygments_lexer": "ipython3",
   "version": "3.9.7"
  }
 },
 "nbformat": 4,
 "nbformat_minor": 5
}
