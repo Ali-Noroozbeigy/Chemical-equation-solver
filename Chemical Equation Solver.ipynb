{
 "cells": [
  {
   "cell_type": "code",
   "execution_count": 1,
   "id": "0fc14454",
   "metadata": {
    "scrolled": true
   },
   "outputs": [
    {
     "name": "stdout",
     "output_type": "stream",
     "text": [
      "C H O\n"
     ]
    }
   ],
   "source": [
    "elements_list = input().split()"
   ]
  },
  {
   "cell_type": "code",
   "execution_count": null,
   "id": "55cc6d69",
   "metadata": {},
   "outputs": [],
   "source": [
    "elements_number = len(elements_list)"
   ]
  },
  {
   "cell_type": "code",
   "execution_count": 5,
   "id": "8e20b4f0",
   "metadata": {},
   "outputs": [
    {
     "name": "stdout",
     "output_type": "stream",
     "text": [
      "C2 H6 + O2 -> C O2 + H2 O\n"
     ]
    }
   ],
   "source": [
    "equation_split = input().split"
   ]
  },
  {
   "cell_type": "code",
   "execution_count": null,
   "id": "632e87ef",
   "metadata": {},
   "outputs": [],
   "source": [
    "columns = 1\n",
    "\n",
    "for term in equation_split:\n",
    "    if term == \"+\" or term == \"=\":\n",
    "        columns += 1\n",
    "        "
   ]
  },
  {
   "cell_type": "code",
   "execution_count": 4,
   "id": "95e93778",
   "metadata": {},
   "outputs": [],
   "source": [
    "import numpy as np"
   ]
  },
  {
   "cell_type": "code",
   "execution_count": null,
   "id": "def6eab7",
   "metadata": {},
   "outputs": [],
   "source": [
    "aug_mat = np.zeros((elements_number))"
   ]
  }
 ],
 "metadata": {
  "kernelspec": {
   "display_name": "Python 3 (ipykernel)",
   "language": "python",
   "name": "python3"
  },
  "language_info": {
   "codemirror_mode": {
    "name": "ipython",
    "version": 3
   },
   "file_extension": ".py",
   "mimetype": "text/x-python",
   "name": "python",
   "nbconvert_exporter": "python",
   "pygments_lexer": "ipython3",
   "version": "3.9.7"
  }
 },
 "nbformat": 4,
 "nbformat_minor": 5
}
