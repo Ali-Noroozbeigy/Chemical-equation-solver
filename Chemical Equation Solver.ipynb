{
 "cells": [
  {
   "cell_type": "markdown",
   "id": "246092f3",
   "metadata": {},
   "source": [
    "# HomeWork 1 Implementation part\n",
    "\n",
    "## Ali Noroozbeigy  `9931062`"
   ]
  },
  {
   "cell_type": "code",
   "execution_count": 1,
   "id": "0fc14454",
   "metadata": {
    "scrolled": true
   },
   "outputs": [
    {
     "name": "stdout",
     "output_type": "stream",
     "text": [
      "C H O\n"
     ]
    }
   ],
   "source": [
    "elements_list = input().split()"
   ]
  },
  {
   "cell_type": "code",
   "execution_count": 2,
   "id": "55cc6d69",
   "metadata": {},
   "outputs": [],
   "source": [
    "rows = len(elements_list)"
   ]
  },
  {
   "cell_type": "code",
   "execution_count": 3,
   "id": "8e20b4f0",
   "metadata": {},
   "outputs": [
    {
     "name": "stdout",
     "output_type": "stream",
     "text": [
      "C2 H6 + O2 -> C O2 + H2 O\n"
     ]
    }
   ],
   "source": [
    "equation_split = input().split()"
   ]
  },
  {
   "cell_type": "markdown",
   "id": "b05d95ac",
   "metadata": {},
   "source": [
    "### each term is a part of equation that we consider a coefficient for it\n",
    "\n",
    "### each  term is separated by + or ->, so as we iterate over equation and pass one of them, we increase number of columns because columns of augmented matrix are coefficients of equation.\n",
    "\n",
    "### because there is aleready one term without reaching + or -> , we start from 1"
   ]
  },
  {
   "cell_type": "code",
   "execution_count": 4,
   "id": "632e87ef",
   "metadata": {},
   "outputs": [],
   "source": [
    "columns = 1\n",
    "\n",
    "for term in equation_split:\n",
    "    if term == \"+\" or term == \"->\":\n",
    "        columns += 1\n",
    "        "
   ]
  },
  {
   "cell_type": "code",
   "execution_count": 5,
   "id": "95e93778",
   "metadata": {},
   "outputs": [],
   "source": [
    "import numpy as np"
   ]
  },
  {
   "cell_type": "code",
   "execution_count": 6,
   "id": "def6eab7",
   "metadata": {},
   "outputs": [],
   "source": [
    "aug_mat = np.zeros((rows, columns + 1))"
   ]
  },
  {
   "cell_type": "markdown",
   "id": "1db02f5e",
   "metadata": {},
   "source": [
    "### in this part, augmented matrix will be filled with indeices of elements. after reaching -> , indices must be calculated with negative signs because they are on the other side of equation"
   ]
  },
  {
   "cell_type": "code",
   "execution_count": 7,
   "id": "e5ef0d46",
   "metadata": {},
   "outputs": [],
   "source": [
    "column = 0\n",
    "sign = 1\n",
    "\n",
    "for term in equation_split:\n",
    "    if term == \"->\":\n",
    "        column += 1\n",
    "        sign = -1\n",
    "    \n",
    "    elif term == \"+\":\n",
    "        column += 1\n",
    "    \n",
    "    elif len(term) == 2:\n",
    "        aug_mat[elements_list.index(term[0]), column] += (sign * float(term[1]))\n",
    "    \n",
    "    elif len(term) == 1:\n",
    "        aug_mat[elements_list.index(term[0]), column] += (sign * 1)        "
   ]
  },
  {
   "cell_type": "markdown",
   "id": "2e18d167",
   "metadata": {},
   "source": [
    "### and now, augmented matrix will be converted into echelon form according to the algorithm provided in the slides"
   ]
  },
  {
   "cell_type": "code",
   "execution_count": 8,
   "id": "93bb3d6a",
   "metadata": {},
   "outputs": [
    {
     "name": "stdout",
     "output_type": "stream",
     "text": [
      "Echelon form is : \n",
      "\n",
      "[[ 2.  0. -1.  0.  0.]\n",
      " [ 0.  2. -2. -1.  0.]\n",
      " [ 0.  0.  3. -2.  0.]]\n"
     ]
    }
   ],
   "source": [
    "row = 0\n",
    "column = 0\n",
    "\n",
    "while row < rows:\n",
    "    \n",
    "    if not np.all(aug_mat[row:, column] == 0):\n",
    "        first_non_zero_location = np.nonzero(aug_mat[row:, column])[0][0] + row\n",
    "        \n",
    "        if first_non_zero_location != row:\n",
    "            aug_mat[[row, first_non_zero_location]] = aug_mat[[first_non_zero_location, row]]\n",
    "        \n",
    "        for i in range(row + 1, rows):\n",
    "            \n",
    "            if aug_mat[i, column] != 0:\n",
    "                m = aug_mat[i, column] / aug_mat[row, column]\n",
    "                aug_mat[i] -= (m * aug_mat[row])\n",
    "        \n",
    "        row +=1\n",
    "        column +=1\n",
    "    \n",
    "    else:\n",
    "        column += 1\n",
    "\n",
    "print(\"Echelon form is : \\n\\n\" + str(aug_mat))        "
   ]
  },
  {
   "cell_type": "markdown",
   "id": "5800c650",
   "metadata": {},
   "source": [
    "### now echelon form will be converted into reduced echelon form according to the algorithm provided in the slides"
   ]
  },
  {
   "cell_type": "code",
   "execution_count": 9,
   "id": "5970913e",
   "metadata": {},
   "outputs": [
    {
     "name": "stdout",
     "output_type": "stream",
     "text": [
      "Reduced Echelon form is : \n",
      "\n",
      "[[ 1.          0.          0.         -0.33333333  0.        ]\n",
      " [ 0.          1.          0.         -1.16666667  0.        ]\n",
      " [ 0.          0.          1.         -0.66666667  0.        ]]\n"
     ]
    }
   ],
   "source": [
    "for row in range(rows-1, -1, -1):\n",
    "    first_non_zero_location = np.nonzero(aug_mat[row, :])[0][0]\n",
    "    \n",
    "    m = 1 / (aug_mat[row, first_non_zero_location])\n",
    "    aug_mat[row] = m * aug_mat[row]\n",
    "    \n",
    "    \n",
    "    for i in range (row-1, -1, -1):\n",
    "        m = aug_mat[i, first_non_zero_location] / aug_mat[row, first_non_zero_location]\n",
    "        \n",
    "        aug_mat[i] -= (m * aug_mat[row])\n",
    "\n",
    "print(\"Reduced Echelon form is : \\n\\n\" + str(aug_mat))         "
   ]
  },
  {
   "cell_type": "markdown",
   "id": "516fef54",
   "metadata": {},
   "source": [
    "### in this part, basic and free variables will be recognized. the first non zero entry (which is 1) in each row will be regarded as basic ones and other non zere entries in that will be free ones because they didn't changed to zero in the process of converting to reduced echelon form.\n",
    "\n",
    "### I assigned free variables to one so that basic variables will be caculated easily. the negative sign is because the fact that each basic variable is on the other side of the equation compared to free ones."
   ]
  },
  {
   "cell_type": "code",
   "execution_count": 10,
   "id": "04e77a4a",
   "metadata": {},
   "outputs": [
    {
     "name": "stdout",
     "output_type": "stream",
     "text": [
      "The result is: \n",
      "\n",
      "X1 = 0.33, X2 = 1.17, X3 = 0.67, X4 = 1, \n"
     ]
    }
   ],
   "source": [
    "basic_vars = {}\n",
    "\n",
    "for row in range(rows):\n",
    "    pivot_pos = np.nonzero(aug_mat[row, :])[0][0]\n",
    "    sum = 0.0\n",
    "    for entry in aug_mat[row, pivot_pos+1:]:\n",
    "        sum += entry\n",
    "    basic_vars[row+1] = (-1 * sum)\n",
    "\n",
    "\n",
    "result = \"\"    \n",
    "for index in range (1, aug_mat.shape[1]):\n",
    "    \n",
    "    if index in basic_vars.keys():\n",
    "        result += \"X\" + str(index) + \" = \"+ \"{:.2f}\".format(basic_vars[index]) + \", \"\n",
    "    else:\n",
    "        result += \"X\" + str(index) + \" = 1, \"\n",
    "\n",
    "print(\"The result is: \\n\\n\" + result)        "
   ]
  }
 ],
 "metadata": {
  "kernelspec": {
   "display_name": "Python 3 (ipykernel)",
   "language": "python",
   "name": "python3"
  },
  "language_info": {
   "codemirror_mode": {
    "name": "ipython",
    "version": 3
   },
   "file_extension": ".py",
   "mimetype": "text/x-python",
   "name": "python",
   "nbconvert_exporter": "python",
   "pygments_lexer": "ipython3",
   "version": "3.9.7"
  }
 },
 "nbformat": 4,
 "nbformat_minor": 5
}
